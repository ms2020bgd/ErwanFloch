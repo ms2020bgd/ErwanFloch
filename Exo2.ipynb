{
 "cells": [
  {
   "cell_type": "markdown",
   "metadata": {},
   "source": [
    "# Exercice sur la recherche du mot philosophie sur les pages de Wikipédia"
   ]
  },
  {
   "cell_type": "markdown",
   "metadata": {},
   "source": [
    " "
   ]
  },
  {
   "cell_type": "markdown",
   "metadata": {},
   "source": [
    "**Imports**"
   ]
  },
  {
   "cell_type": "code",
   "execution_count": 4,
   "metadata": {},
   "outputs": [],
   "source": [
    "import requests\n",
    "from bs4 import BeautifulSoup\n",
    "import urllib"
   ]
  },
  {
   "cell_type": "markdown",
   "metadata": {},
   "source": [
    " "
   ]
  },
  {
   "cell_type": "markdown",
   "metadata": {},
   "source": [
    "# Implementation"
   ]
  },
  {
   "cell_type": "code",
   "execution_count": 9,
   "metadata": {},
   "outputs": [],
   "source": [
    "# Maximal distance allowed, e.g. 100 pages\n",
    "max_distance = 100"
   ]
  },
  {
   "cell_type": "code",
   "execution_count": 10,
   "metadata": {},
   "outputs": [
    {
     "ename": "IndexError",
     "evalue": "list index out of range",
     "output_type": "error",
     "traceback": [
      "\u001b[1;31m---------------------------------------------------------------------------\u001b[0m",
      "\u001b[1;31mIndexError\u001b[0m                                Traceback (most recent call last)",
      "\u001b[1;32m<ipython-input-10-359e681825f5>\u001b[0m in \u001b[0;36m<module>\u001b[1;34m\u001b[0m\n\u001b[0;32m     21\u001b[0m             \u001b[1;31m#print(link.attrs)\u001b[0m\u001b[1;33m\u001b[0m\u001b[1;33m\u001b[0m\u001b[1;33m\u001b[0m\u001b[0m\n\u001b[0;32m     22\u001b[0m \u001b[1;33m\u001b[0m\u001b[0m\n\u001b[1;32m---> 23\u001b[1;33m     \u001b[0murl\u001b[0m \u001b[1;33m=\u001b[0m \u001b[0mL\u001b[0m\u001b[1;33m[\u001b[0m\u001b[1;36m0\u001b[0m\u001b[1;33m]\u001b[0m                   \u001b[1;31m# Adresse du premier trouvé dans le corps de texte\u001b[0m\u001b[1;33m\u001b[0m\u001b[1;33m\u001b[0m\u001b[0m\n\u001b[0m\u001b[0;32m     24\u001b[0m     \u001b[0murl\u001b[0m \u001b[1;33m=\u001b[0m \u001b[1;34m\"https://fr.wikipedia.org/\"\u001b[0m \u001b[1;33m+\u001b[0m \u001b[0murl\u001b[0m\u001b[1;33m\u001b[0m\u001b[1;33m\u001b[0m\u001b[0m\n\u001b[0;32m     25\u001b[0m \u001b[1;33m\u001b[0m\u001b[0m\n",
      "\u001b[1;31mIndexError\u001b[0m: list index out of range"
     ]
    }
   ],
   "source": [
    "# Initialization\n",
    "url = 'https://fr.wikipedia.org/wiki/Disposition_des_touches_d%27un_clavier_de_saisie'\n",
    "distance = 0\n",
    "reponse = 200\n",
    "\n",
    "while ( (distance <max_distance) and (reponse != 404) )  :\n",
    "    response = requests.get(url)\n",
    "    contents = requests.get(url).text\n",
    "    soup = BeautifulSoup(contents)\n",
    "    \n",
    "    #i) recherche du premier lien hypertexte\n",
    "    # returns the text of the page (otherwise, hyperlinks of pictures are retrieved as well)\n",
    "    page_text = soup.get_text()\n",
    "    # on recherche uniquement parmi les liens contenus dans les paragraphes (<body>)\n",
    "    L = []                  # liste contenant tous les liens hypertexte\n",
    "\n",
    "    for paragraphe in soup.find_all('p'):\n",
    "        for link in paragraphe.find_all('a'):\n",
    "            L.append(link.get('href'))\n",
    "            text_of_link = link.getText()\n",
    "            #print(link.attrs)\n",
    "   \n",
    "    url = L[0]                   # Adresse du premier trouvé dans le corps de texte\n",
    "    url = \"https://fr.wikipedia.org/\" + url     \n",
    "  \n",
    "    if ( url != 'https://fr.wikipedia.org/wiki/Portail:Philosophie'):\n",
    "        urllib.request.urlopen(url)              # follows the found link if the term has not been found\n",
    "        reponse = response.status_code\n",
    "        distance = distance + 1   \n",
    "    else:\n",
    "        break\n",
    "        \n",
    "        \n",
    "# Display / affichage         \n",
    "if distance < max_distance:                               \n",
    "    print(\"The web page\", url , \" has been found after a distance of\", distance, \" web pages\")\n",
    "elif distance >= max_distance:\n",
    "    print(\"Maximum allowed distance has been reached\")\n",
    "elif response != 200:\n",
    "    print(\"Error\", response)\n",
    "else:\n",
    "    print(\"Not found\")"
   ]
  },
  {
   "cell_type": "code",
   "execution_count": null,
   "metadata": {},
   "outputs": [],
   "source": []
  },
  {
   "cell_type": "code",
   "execution_count": null,
   "metadata": {},
   "outputs": [],
   "source": []
  },
  {
   "cell_type": "code",
   "execution_count": null,
   "metadata": {},
   "outputs": [],
   "source": []
  }
 ],
 "metadata": {
  "kernelspec": {
   "display_name": "Python 3",
   "language": "python",
   "name": "python3"
  },
  "language_info": {
   "codemirror_mode": {
    "name": "ipython",
    "version": 3
   },
   "file_extension": ".py",
   "mimetype": "text/x-python",
   "name": "python",
   "nbconvert_exporter": "python",
   "pygments_lexer": "ipython3",
   "version": "3.7.3"
  }
 },
 "nbformat": 4,
 "nbformat_minor": 2
}
