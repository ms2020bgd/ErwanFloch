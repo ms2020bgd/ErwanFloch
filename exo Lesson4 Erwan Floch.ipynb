{
 "cells": [
  {
   "cell_type": "markdown",
   "metadata": {},
   "source": [
    " "
   ]
  },
  {
   "cell_type": "markdown",
   "metadata": {},
   "source": [
    "**LESSON4**\\\n",
    "Faire un programme qui:\n",
    "Trouve les 10 villes de France les + peuplées (e.g https://fr.wikipedia.org/wiki/Liste_des_communes_de_France_les_plus_peuplées)\n",
    "Pour chaque ville, trouve sa distance avec les autres. \n",
    "par exemple, avec google maps api (nécessite de s'authentifier / créer un token) avec https://github.com/googlemaps/google-maps-services-python (cf. doc token dans le readme)\n",
    "ou avec https://fr.distance24.org/ (pas besoin de s'authentifier)\n",
    "Trouve les villes les plus proches"
   ]
  },
  {
   "cell_type": "code",
   "execution_count": 73,
   "metadata": {},
   "outputs": [],
   "source": [
    "import requests\n",
    "from bs4 import BeautifulSoup\n",
    "from IPython.display import Image\n",
    "url = \"https://fr.wikipedia.org/wiki/Liste_des_communes_de_France_les_plus_peuplées\""
   ]
  },
  {
   "cell_type": "code",
   "execution_count": 74,
   "metadata": {},
   "outputs": [
    {
     "data": {
      "text/plain": [
       "bs4.BeautifulSoup"
      ]
     },
     "execution_count": 74,
     "metadata": {},
     "output_type": "execute_result"
    }
   ],
   "source": [
    "response = requests.get(url)\n",
    "soup = BeautifulSoup(response.text)\n",
    "type(soup)"
   ]
  },
  {
   "cell_type": "code",
   "execution_count": 75,
   "metadata": {},
   "outputs": [],
   "source": [
    "def most_populated_towns():\n",
    "    table = soup.find('table')  # table des villes\n",
    "    b = table.find_all('tr')  # 1 ligne\n",
    "\n",
    "    L = []\n",
    "    i = 0\n",
    "    for ligne in b[1:]:\n",
    "        if (i<10):\n",
    "            cell = ligne.find_all('td')  # 1 cellule\n",
    "            town = cell[1].find('a').text.strip()\n",
    "            L.append(town)\n",
    "            i = i + 1\n",
    "\n",
    "    return L"
   ]
  },
  {
   "cell_type": "markdown",
   "metadata": {},
   "source": [
    "![title](img/Exercxice_cours_4_table.jpg)"
   ]
  },
  {
   "cell_type": "code",
   "execution_count": 76,
   "metadata": {},
   "outputs": [
    {
     "name": "stdout",
     "output_type": "stream",
     "text": [
      "['Paris', 'Marseille', 'Lyon', 'Toulouse', 'Nice', 'Nantes', 'Montpellier', 'Strasbourg', 'Bordeaux', 'Lille']\n"
     ]
    }
   ],
   "source": [
    "print(most_populated_towns())"
   ]
  },
  {
   "cell_type": "markdown",
   "metadata": {},
   "source": [
    " "
   ]
  },
  {
   "cell_type": "markdown",
   "metadata": {},
   "source": [
    "**Distance entre villes**"
   ]
  },
  {
   "cell_type": "code",
   "execution_count": 77,
   "metadata": {},
   "outputs": [],
   "source": [
    "url2 = \"https://fr.distance24.org/\""
   ]
  },
  {
   "cell_type": "code",
   "execution_count": 86,
   "metadata": {},
   "outputs": [
    {
     "data": {
      "text/plain": [
       "'392'"
      ]
     },
     "execution_count": 86,
     "metadata": {},
     "output_type": "execute_result"
    }
   ],
   "source": [
    "# Distance entre deux villes\n",
    "def distance(origin, destination):\n",
    "    url = url2 + origin + \"/\" + destination\n",
    "    soup = BeautifulSoup(requests.get(url).text)\n",
    "    a = soup.find('p')\n",
    "    b = a.find('strong')\n",
    "    return b.text.split()[0]\n",
    "distance(\"Paris\", \"Lyon\")"
   ]
  },
  {
   "cell_type": "markdown",
   "metadata": {},
   "source": [
    "![title](img/Exercxice_cours_4_distance.jpg)"
   ]
  },
  {
   "cell_type": "code",
   "execution_count": 94,
   "metadata": {},
   "outputs": [
    {
     "name": "stdout",
     "output_type": "stream",
     "text": [
      "distance entre Paris et Paris : 0 km\n",
      "distance entre Marseille et Marseille : 0 km\n",
      "distance entre Lyon et Lyon : 0 km\n",
      "distance entre Toulouse et Toulouse : 0 km\n",
      "distance entre Nice et Nice : 0 km\n",
      "distance entre Nantes et Nantes : 0 km\n",
      "distance entre Montpellier et Montpellier : 0 km\n",
      "distance entre Strasbourg et Strasbourg : 0 km\n",
      "distance entre Bordeaux et Bordeaux : 0 km\n",
      "distance entre Lille et Lille : 0 km\n"
     ]
    }
   ],
   "source": [
    "# Distance entre les villes de la liste calculée plus haut\n",
    "L = most_populated_towns()\n",
    "for origin, destination in zip(L, L):\n",
    "    d = distance(origin, destination)\n",
    "    print(f\"distance entre {origin} et {destination} : {d} km\" )\n",
    "    \n",
    "# => zip ne fait pas de produit cartésien"
   ]
  },
  {
   "cell_type": "code",
   "execution_count": 95,
   "metadata": {},
   "outputs": [],
   "source": [
    "import itertools\n",
    "# pour le produit cartésien"
   ]
  },
  {
   "cell_type": "code",
   "execution_count": 93,
   "metadata": {},
   "outputs": [
    {
     "name": "stdout",
     "output_type": "stream",
     "text": [
      "distance entre Paris et Paris : 0 km\n",
      "distance entre Paris et Marseille : 661 km\n",
      "distance entre Paris et Lyon : 392 km\n",
      "distance entre Paris et Toulouse : 589 km\n",
      "distance entre Paris et Nice : 688 km\n",
      "distance entre Paris et Nantes : 343 km\n",
      "distance entre Paris et Montpellier : 596 km\n",
      "distance entre Paris et Strasbourg : 397 km\n",
      "distance entre Paris et Bordeaux : 500 km\n",
      "distance entre Paris et Lille : 204 km\n",
      "distance entre Marseille et Paris : 661 km\n",
      "distance entre Marseille et Marseille : 0 km\n",
      "distance entre Marseille et Lyon : 278 km\n",
      "distance entre Marseille et Toulouse : 319 km\n",
      "distance entre Marseille et Nice : 159 km\n",
      "distance entre Marseille et Nantes : 696 km\n",
      "distance entre Marseille et Montpellier : 126 km\n",
      "distance entre Marseille et Strasbourg : 617 km\n",
      "distance entre Marseille et Bordeaux : 506 km\n",
      "distance entre Marseille et Lille : 835 km\n",
      "distance entre Lyon et Paris : 392 km\n",
      "distance entre Lyon et Marseille : 278 km\n",
      "distance entre Lyon et Lyon : 0 km\n",
      "distance entre Lyon et Toulouse : 360 km\n",
      "distance entre Lyon et Nice : 300 km\n",
      "distance entre Lyon et Nantes : 516 km\n",
      "distance entre Lyon et Montpellier : 251 km\n",
      "distance entre Lyon et Strasbourg : 384 km\n",
      "distance entre Lyon et Bordeaux : 436 km\n",
      "distance entre Lyon et Lille : 558 km\n",
      "distance entre Toulouse et Paris : 589 km\n",
      "distance entre Toulouse et Marseille : 319 km\n",
      "distance entre Toulouse et Lyon : 360 km\n",
      "distance entre Toulouse et Toulouse : 0 km\n",
      "distance entre Toulouse et Nice : 469 km\n",
      "distance entre Toulouse et Nantes : 466 km\n",
      "distance entre Toulouse et Montpellier : 196 km\n",
      "distance entre Toulouse et Strasbourg : 737 km\n",
      "distance entre Toulouse et Bordeaux : 212 km\n",
      "distance entre Toulouse et Lille : 792 km\n",
      "distance entre Nice et Paris : 688 km\n",
      "distance entre Nice et Marseille : 159 km\n",
      "distance entre Nice et Lyon : 300 km\n",
      "distance entre Nice et Toulouse : 469 km\n",
      "distance entre Nice et Nice : 0 km\n",
      "distance entre Nice et Nantes : 792 km\n",
      "distance entre Nice et Montpellier : 273 km\n",
      "distance entre Nice et Strasbourg : 545 km\n",
      "distance entre Nice et Bordeaux : 638 km\n",
      "distance entre Nice et Lille : 835 km\n",
      "distance entre Nantes et Paris : 343 km\n",
      "distance entre Nantes et Marseille : 696 km\n",
      "distance entre Nantes et Lyon : 516 km\n",
      "distance entre Nantes et Toulouse : 466 km\n",
      "distance entre Nantes et Nice : 792 km\n",
      "distance entre Nantes et Nantes : 0 km\n",
      "distance entre Nantes et Montpellier : 584 km\n",
      "distance entre Nantes et Strasbourg : 710 km\n",
      "distance entre Nantes et Bordeaux : 276 km\n",
      "distance entre Nantes et Lille : 508 km\n",
      "distance entre Montpellier et Paris : 596 km\n",
      "distance entre Montpellier et Marseille : 126 km\n",
      "distance entre Montpellier et Lyon : 251 km\n",
      "distance entre Montpellier et Toulouse : 196 km\n",
      "distance entre Montpellier et Nice : 273 km\n",
      "distance entre Montpellier et Nantes : 584 km\n",
      "distance entre Montpellier et Montpellier : 0 km\n",
      "distance entre Montpellier et Strasbourg : 629 km\n",
      "distance entre Montpellier et Bordeaux : 381 km\n",
      "distance entre Montpellier et Lille : 784 km\n",
      "distance entre Strasbourg et Paris : 397 km\n",
      "distance entre Strasbourg et Marseille : 617 km\n",
      "distance entre Strasbourg et Lyon : 384 km\n",
      "distance entre Strasbourg et Toulouse : 737 km\n",
      "distance entre Strasbourg et Nice : 545 km\n",
      "distance entre Strasbourg et Nantes : 710 km\n",
      "distance entre Strasbourg et Montpellier : 629 km\n",
      "distance entre Strasbourg et Strasbourg : 0 km\n",
      "distance entre Strasbourg et Bordeaux : 760 km\n",
      "distance entre Strasbourg et Lille : 408 km\n",
      "distance entre Bordeaux et Paris : 500 km\n",
      "distance entre Bordeaux et Marseille : 506 km\n",
      "distance entre Bordeaux et Lyon : 436 km\n",
      "distance entre Bordeaux et Toulouse : 212 km\n",
      "distance entre Bordeaux et Nice : 638 km\n",
      "distance entre Bordeaux et Nantes : 276 km\n",
      "distance entre Bordeaux et Montpellier : 381 km\n",
      "distance entre Bordeaux et Strasbourg : 760 km\n",
      "distance entre Bordeaux et Bordeaux : 0 km\n",
      "distance entre Bordeaux et Lille : 700 km\n",
      "distance entre Lille et Paris : 204 km\n",
      "distance entre Lille et Marseille : 835 km\n",
      "distance entre Lille et Lyon : 558 km\n",
      "distance entre Lille et Toulouse : 792 km\n",
      "distance entre Lille et Nice : 835 km\n",
      "distance entre Lille et Nantes : 508 km\n",
      "distance entre Lille et Montpellier : 784 km\n",
      "distance entre Lille et Strasbourg : 408 km\n",
      "distance entre Lille et Bordeaux : 700 km\n",
      "distance entre Lille et Lille : 0 km\n"
     ]
    }
   ],
   "source": [
    "# Distance entre les villes de la liste calculée plus haut\n",
    "L = most_populated_towns()\n",
    "for origin, destination in itertools.product(L, L):\n",
    "    d = distance(origin, destination)\n",
    "    print(f\"distance entre {origin} et {destination} : {d} km\" )"
   ]
  },
  {
   "cell_type": "code",
   "execution_count": null,
   "metadata": {},
   "outputs": [],
   "source": []
  }
 ],
 "metadata": {
  "kernelspec": {
   "display_name": "Python 3",
   "language": "python",
   "name": "python3"
  },
  "language_info": {
   "codemirror_mode": {
    "name": "ipython",
    "version": 3
   },
   "file_extension": ".py",
   "mimetype": "text/x-python",
   "name": "python",
   "nbconvert_exporter": "python",
   "pygments_lexer": "ipython3",
   "version": "3.7.3"
  }
 },
 "nbformat": 4,
 "nbformat_minor": 2
}
